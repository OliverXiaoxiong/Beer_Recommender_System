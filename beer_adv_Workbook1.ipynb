{
 "cells": [
  {
   "cell_type": "markdown",
   "metadata": {},
   "source": [
    "## Web Scraping BeerAdvocate via wget and grep:\n",
    "\n",
    "In this notebook we scrape data from www.beeradvocate.com using $\\texttt{wget}$ and $\\texttt{grep}$ methods. With these methods we scrape data to form a Beer class and User class. The Beer class stores the stats, info, and ratings of a particular beer. The User class stores similar data but for a specific user. With this data, we hope we are able to make novel product recommendations for online users."
   ]
  },
  {
   "cell_type": "code",
   "execution_count": 18,
   "metadata": {},
   "outputs": [],
   "source": [
    "#import the required packages\n",
    "import numpy as np\n",
    "import pandas as pd"
   ]
  },
  {
   "cell_type": "markdown",
   "metadata": {},
   "source": [
    "___\n",
    "\n",
    "## The All-Mighty Burger\n",
    "\n",
    "The $\\text{scrape_burger}$( ) function is fundamental to this web scraping method. With this function we can pass in a url and search the html text for certain words. For example, say one line in the html file is \n",
    "\n",
    "$\\text{\"<dl><dt>Birthday:</dt> <dd>Jan 29, 1977 (Age: 41)</dd></dl>\"}$\n",
    "\n",
    "and we are interested in extracting the user's birthday. In order to extract this info we can call the burger function with following parameters:\n",
    "\n",
    "scrape_burger(url='someurl' , top_bun='Birthday', bottom_bun = '$\\text{</dd>}$', napkins='$\\text{<dd>}$')\n",
    "\n",
    "The top_bun and bottom_bun parameters specify that any text in between these buns should be scraped. This leads to the following string\n",
    "\n",
    "\"$\\text{:</dt> <dd>Jan 29, 1977 (Age: 41)}$\"\n",
    "\n",
    "The napkins parameters is then used to \"clean up\" the string above so that only text after the napkins' flag is kept. This leads to the final string which is what we hoped to extract:\n",
    "\n",
    "\n",
    "\"$\\text{Jan 29, 1977 (Age: 41)}$\"\n",
    "\n",
    "We use this function in many different ways in this method in order to scrape data of interest from the website. The downsides of this methods are that it can be quite tedious to find the parameters from the html text that scrape the data of interest. Also, this method is somewhat inefficient as we perform $\\texttt{wget}$ and $\\texttt{grep}$ on the same webpage multiple times in order to extract different pieces of data. It would be quicker to parse the entire html text only one time. Another possible issue is that this method relies on the uniform structure of beer and user pages on BeerAdvocate. If beer and user pages slightly differ, the data could be incorrectly scraped. However, this issue has not come up in our testing so far."
   ]
  },
  {
   "cell_type": "code",
   "execution_count": 2,
   "metadata": {},
   "outputs": [],
   "source": [
    "def scrape_burger(url = '', top_bun = '', bottom_bun = '', patty = '', napkins=False):\n",
    "    \"\"\"\n",
    "    Scrapes a website's html for text located between the 'top bun' (left side) and 'bottom bun' (right side). \n",
    "    Patty argument is for fine tuning the scraping using regex. Lastly, napkins are for cleaning up the mess.\n",
    "    \"\"\"\n",
    "    url = '\\''+ url + '\\''\n",
    "    bottom_bun = ')\\'' if bottom_bun=='' else '?)(?=' + bottom_bun + ')\\''\n",
    "    burger = '\\'(?<=' + top_bun + ')' + patty + '(.*'+ bottom_bun\n",
    "    if napkins:\n",
    "        cleanup = '\\'(?<=' + napkins + ')' + '(.*)\\'' \n",
    "        x = !wget -qO - {url} | grep -oP $burger | grep -oP $cleanup\n",
    "    else:\n",
    "        x= !wget -qO - {url} | grep -oP $burger \n",
    "    #if regex search fails return space character\n",
    "    if len(x)==0:\n",
    "        return \" \"\n",
    "    return x"
   ]
  },
  {
   "cell_type": "markdown",
   "metadata": {},
   "source": [
    "---\n",
    "\n",
    "## Beer Class\n",
    "\n",
    "The Beer class has the following attributes and functions:\n",
    "\n",
    "Beer.url - the associated url of the beer (passed in as a parameter to initialize the class)\n",
    "\n",
    "Beer.avg_rating - the average rating of the beer on a 5-point scale\n",
    "\n",
    "Beer.stats - relevant beer stats including its ranking, number of reviews, and number of ratings\n",
    "\n",
    "Beer.info - relevant beer information including its brewery, style, ABV (alcohol by volume), and availability\n",
    "\n",
    "Beer.last_page - an attribute used to find the last page of reviews\n",
    "\n",
    "Beer.get_ratings() - scrape specified number of ratings (default is all ratings) for beer\n"
   ]
  },
  {
   "cell_type": "code",
   "execution_count": 17,
   "metadata": {},
   "outputs": [],
   "source": [
    "class Beer:\n",
    "    def __init__(self, url):\n",
    "        self.url = url\n",
    "        self.avg_rating = self.get_score()\n",
    "        self.stats = self.get_stats()\n",
    "        self.last_page = int(self.stats['NumRatings'].replace(\",\",\"\")) -\\\n",
    "                        (int(self.stats['NumRatings'].replace(\",\",\"\")) % 25)\n",
    "        self.info=self.get_info()\n",
    "        \n",
    "    def get_score(self):\n",
    "        score = scrape_burger(self.url,\n",
    "                             top_bun = '\"ba-ravg\">',\n",
    "                             bottom_bun = '<')\n",
    "        return float(score[0])\n",
    "    def get_stats(self):\n",
    "        stats = {\n",
    "            'Ranking':scrape_burger(self.url, \n",
    "                                    top_bun = '<dd>#',\n",
    "                                    bottom_bun = '<')[0],\n",
    "            'NumReviews': scrape_burger(self.url, \n",
    "                                    top_bun = 'ba-reviews\">',\n",
    "                                    bottom_bun = '<')[0],\n",
    "            'NumRatings': scrape_burger(self.url, \n",
    "                                    top_bun = '\"ba-ratings\">',\n",
    "                                    bottom_bun = '<')[0],\n",
    "            'Pdev': scrape_burger(self.url, \n",
    "                                    top_bun = 'psDev: ',\n",
    "                                    bottom_bun = '%')[0],\n",
    "        }\n",
    "        return stats \n",
    "    def get_info(self):\n",
    "        info={\n",
    "            'BrewedBy':scrape_burger(self.url, \n",
    "                              top_bun = 'itemprop=\"title\">',\n",
    "                             bottom_bun = '</span>',\n",
    "                             patty='(?!<)(?!Beers)')[0],\n",
    "            'Style':scrape_burger(self.url, \n",
    "                              top_bun = 'Style:<',\n",
    "                             bottom_bun = '</b>',\n",
    "                             napkins='<b>')[0],\n",
    "            'ABV':scrape_burger(self.url, \n",
    "                              top_bun = '\\(ABV\\):</b> ',\n",
    "                             bottom_bun = '%')[0],\n",
    "            'Availability':scrape_burger(self.url, \n",
    "                              top_bun = 'Availability:</b> ',\n",
    "                             bottom_bun = '')[0]\n",
    "        }\n",
    "        return info\n",
    "    def get_ratings(self, n_most_recent = 0):\n",
    "        \"\"\"\n",
    "        Returns a python dictionary of all usernames of users who have rated the beer and their corresponding rating\n",
    "        \"\"\" \n",
    "        n_most_recent = (n_most_recent//25)*25 if n_most_recent != 0 else self.last_page\n",
    "        names = []\n",
    "        ratings = []\n",
    "        for page_num in range(0,n_most_recent, 25):\n",
    "            names += scrape_burger(self.url + '?view=beer&sort=&start=' + str(page_num),\n",
    "                              top_bun = 'username\">',\n",
    "                              patty = '(?!<)(?!Place Admin)',\n",
    "                              bottom_bun = '<')\n",
    "            ratings += scrape_burger(self.url + '?view=beer&sort=&start=' + str(page_num),\n",
    "                                 top_bun = 'BAscore_norm\">',\n",
    "                                 bottom_bun = '<')\n",
    "\n",
    "        all_ratings = {'usr': names, 'rating': ratings}\n",
    "        return all_ratings"
   ]
  },
  {
   "cell_type": "markdown",
   "metadata": {},
   "source": [
    "---\n",
    "\n",
    "## User Class\n",
    "\n",
    "The User class has the following attributes and functions:\n",
    "\n",
    "User.url - the associated url of the user (passed in as a parameter to initialize the class)\n",
    "\n",
    "User.username - the user's username\n",
    "\n",
    "User.stats - relevant user stats including his/her beer karma, number of ratings, number of posts, and number of likes\n",
    "\n",
    "User.info - relevant user information including the user's gender, birthday, and location\n",
    "\n",
    "User.last_page - an attribute used to find the last page of reviews\n",
    "\n",
    "User.get_ratings() - scrape specified number of ratings (default is all ratings) for user"
   ]
  },
  {
   "cell_type": "code",
   "execution_count": 4,
   "metadata": {},
   "outputs": [],
   "source": [
    "class User:\n",
    "    def __init__(self, url,noInitialize=False):\n",
    "        self.url = url\n",
    "        self.username=self.get_username()\n",
    "        #in case profile is private and info cannot be accessed\n",
    "        if self.username==\" \" or noInitialize:\n",
    "            return\n",
    "        self.info=self.get_info()\n",
    "        self.stats=self.get_stats()\n",
    "        self.last_page = int(self.stats['NumRatings'].replace(\",\",\"\")) - \\\n",
    "                        (int(self.stats['NumRatings'].replace(\",\",\"\"))% 50)\n",
    "    def get_username(self):\n",
    "        username = scrape_burger(self.url,\n",
    "                             top_bun = 'class=\"username\">',\n",
    "                             bottom_bun = '</h1',\n",
    "                           )[0]\n",
    "        return username\n",
    "    def get_info(self):\n",
    "        info={\n",
    "            'Gender':scrape_burger(self.url, \n",
    "                              top_bun = 'Gender',\n",
    "                             bottom_bun = '</dd>',\n",
    "                             napkins='d>')[0],\n",
    "            'Birthday':scrape_burger(self.url, \n",
    "                              top_bun = 'Birthday',\n",
    "                             bottom_bun = '</dd>',\n",
    "                             napkins='d>')[0],\n",
    "            'Location':scrape_burger(self.url, \n",
    "                              top_bun = '<dt>Location',\n",
    "                             bottom_bun = '\" target',\n",
    "                             napkins='location='       )[0],\n",
    "        }\n",
    "        return info\n",
    "    def get_stats(self):\n",
    "        stats = {\n",
    "            'BeerKarma':scrape_burger(self.url, \n",
    "                                    top_bun = 'Beer Karma',\n",
    "                                    bottom_bun = '</b></a>',\n",
    "                                    napkins='<b>' )[0],\n",
    "            'NumRatings':scrape_burger(self.url, \n",
    "                                    top_bun = 'Beers:</b></dt>',\n",
    "                                    bottom_bun = ' \\|',\n",
    "                                    napkins='<b>' )[0],\n",
    "            'NumPosts':scrape_burger(self.url, \n",
    "                                    top_bun = '<dd>Posts: ',\n",
    "                                    bottom_bun = ' \\|')[0],\n",
    "            'NumLikes':scrape_burger(self.url, \n",
    "                                    top_bun = '\\| Likes Received: ',\n",
    "                                    bottom_bun = '')[0]\n",
    "        }\n",
    "        return stats\n",
    "    def get_ratings(self, n_most_recent = 0):\n",
    "        \"\"\"\n",
    "        Returns a python dictionary of all beers and corresponding rating. Use 'beers' or 'ratings' to index\n",
    "        this data from the dictionary.\n",
    "        \"\"\" \n",
    "        n_most_recent = (n_most_recent//50)*50 if (n_most_recent != 0 and n_most_recent>=50) else self.last_page\n",
    "        beers = []\n",
    "        ratings = []\n",
    "        urlbase='https://www.beeradvocate.com/user/beers/?start='\n",
    "        urlend='&ba='+self.username+'&order=dateD&view=R'\n",
    "        for page_num in range(0,n_most_recent, 50):\n",
    "            beers += scrape_burger(urlbase + str(page_num) + urlend,\n",
    "                              top_bun = 'review\"><b>',\n",
    "                              bottom_bun = '</b>')\n",
    "            ratings += scrape_burger(urlbase + str(page_num) + urlend,\n",
    "                                 top_bun = '#F7F7F7\"><b>|valign=\"top\" ><b>',\n",
    "                                 #patty = '(?!<)(?!Place Admin)',\n",
    "                                 bottom_bun = '</b>')\n",
    "\n",
    "        all_ratings = {'beers': beers, 'ratings': ratings}\n",
    "        return all_ratings"
   ]
  },
  {
   "cell_type": "markdown",
   "metadata": {},
   "source": [
    "---\n",
    "\n",
    "## Data Extraction\n",
    "\n",
    "Now that the Beer and User classes are defined, we use them to extract meaningful data that can be analyzed, namely lots of user reviews that construct a ratings matrix."
   ]
  },
  {
   "cell_type": "markdown",
   "metadata": {},
   "source": [
    "find_userurls() is used to extract a large list of user urls from multiple beer pages that can be used to create many User classes. With these User classes, we can then extract lots of rating data."
   ]
  },
  {
   "cell_type": "code",
   "execution_count": 19,
   "metadata": {},
   "outputs": [],
   "source": [
    "def find_userurls(beerurls,n_recent_from_beer=0):\n",
    "    all_userurls=[]\n",
    "    for beerurl in beerurls:\n",
    "        beer=Beer(beerurl)\n",
    "        #n_most_recent should be a multiple of 25 and >=25\n",
    "        n_recent_from_beer = (n_recent_from_beer//25)*25 if n_recent_from_beer != 0 else beer.last_page\n",
    "        userurls = []\n",
    "        for page_num in range(0,n_recent_from_beer, 25):\n",
    "            userurls += scrape_burger(beerurl + '?view=beer&sort=&start=' + str(page_num),\n",
    "                              top_bun = 'community/members/',\n",
    "                              bottom_bun = '\" class=\"username\"')\n",
    "        userurls=['https://www.beeradvocate.com/community/members/'+userurls[k] for k in range(0,len(userurls)) if k%2==0]\n",
    "        all_userurls+=userurls\n",
    "    return all_userurls"
   ]
  },
  {
   "cell_type": "code",
   "execution_count": 22,
   "metadata": {},
   "outputs": [
    {
     "name": "stdout",
     "output_type": "stream",
     "text": [
      "number of user urls is 100\n"
     ]
    }
   ],
   "source": [
    "beerurls=['https://www.beeradvocate.com/beer/profile/23222/78820/',\n",
    "         'https://www.beeradvocate.com/beer/profile/46317/16814/']\n",
    "user_urls=find_userurls(beerurls,n_recent_from_beer=50)\n",
    "print(f\"number of user urls is {len(user_urls)}\")"
   ]
  },
  {
   "cell_type": "code",
   "execution_count": 23,
   "metadata": {},
   "outputs": [
    {
     "data": {
      "text/plain": [
       "['https://www.beeradvocate.com/community/members/jmonah3.887293/',\n",
       " 'https://www.beeradvocate.com/community/members/bugsmcl.1140386/',\n",
       " 'https://www.beeradvocate.com/community/members/aerizel.957865/',\n",
       " 'https://www.beeradvocate.com/community/members/humbolt9.1232683/',\n",
       " 'https://www.beeradvocate.com/community/members/jimmeekrek.716589/']"
      ]
     },
     "execution_count": 23,
     "metadata": {},
     "output_type": "execute_result"
    }
   ],
   "source": [
    "user_urls[:5]"
   ]
  },
  {
   "cell_type": "markdown",
   "metadata": {},
   "source": [
    "In the chunk below we automatically scrape a certain number of beer ratings from each user specifified in the userurl list. This is the most time consuming part as it is scraping the most data. The scraped data is stored in the dictionary all_ratings. Note that some users are not scraped because their profiles are private or removed."
   ]
  },
  {
   "cell_type": "code",
   "execution_count": 8,
   "metadata": {},
   "outputs": [
    {
     "name": "stdout",
     "output_type": "stream",
     "text": [
      "CPU times: user 2.23 s, sys: 3.03 s, total: 5.26 s\n",
      "Wall time: 2min 58s\n"
     ]
    }
   ],
   "source": [
    "%%time\n",
    "num_ratings_from_user=200\n",
    "all_ratings={}\n",
    "for userurl in user_urls:\n",
    "    person=User(userurl,noInitialize=True)\n",
    "    if person.username!=\" \":\n",
    "        ratings=person.get_ratings(num_ratings_from_user)\n",
    "        all_ratings[person.username]=ratings"
   ]
  },
  {
   "cell_type": "code",
   "execution_count": 9,
   "metadata": {},
   "outputs": [
    {
     "name": "stdout",
     "output_type": "stream",
     "text": [
      "all beer and associated ratings lists have the same length (T/F): True\n",
      "number of users scraped is 94\n",
      "total number of ratings scraped is 9045\n",
      "average ratings/user is 96.22340425531915\n"
     ]
    }
   ],
   "source": [
    "ratings_keys=[k for k in all_ratings.keys()]\n",
    "isSameLength=all([len(all_ratings[k]['beers'])==len(all_ratings[k]['ratings']) for k in ratings_keys])\n",
    "print(f\"all beer and associated ratings lists have the same length (T/F): {isSameLength}\")\n",
    "print(f\"number of users scraped is {len(ratings_keys)}\")\n",
    "numRatings_vec=[len(all_ratings[k]['beers']) for k in ratings_keys]\n",
    "print(f\"total number of ratings scraped is {np.sum(numRatings_vec)}\")\n",
    "print(f\"average ratings/user is {np.mean(numRatings_vec)}\")"
   ]
  },
  {
   "cell_type": "markdown",
   "metadata": {},
   "source": [
    "Now that we have successfully scraped the ratings data, we want to construct our ratings matrix that will be used for analysis. To do this we first sort and find the most rated beers. This is because e want to use the most rated beers in the matrix in order to reduce sparsity. Finally we construct the ratings matrix by using a specified number of the most rated beers."
   ]
  },
  {
   "cell_type": "code",
   "execution_count": 11,
   "metadata": {},
   "outputs": [],
   "source": [
    "#function used to see how many users rated each beer from all_ratings data\n",
    "def sortedBeerList(all_ratings):\n",
    "    allbeers=[]\n",
    "    ratings_keys=[k for k in all_ratings.keys()]\n",
    "    for k in ratings_keys:\n",
    "        allbeers+=all_ratings[k]['beers']\n",
    "    x1,x2=np.unique(allbeers,return_counts=True)\n",
    "    return sorted(zip(x2,x1),reverse=True)"
   ]
  },
  {
   "cell_type": "code",
   "execution_count": 12,
   "metadata": {},
   "outputs": [],
   "source": [
    "#function finds n most rated beers from all_ratings data\n",
    "def findNmostPopularBeers(all_ratings,n=0):\n",
    "    sortedbeers=sortedBeerList(all_ratings)\n",
    "    if n==0 or n>=len(sortedbeers):\n",
    "        n=len(sortedbeers)-1\n",
    "    popbeers=np.array([sortedbeers[k][1] for k in range(0,n+1)])\n",
    "    counts=np.array([sortedbeers[k][0] for k in range(0,n+1)])\n",
    "    counts=np.delete(counts,np.where(popbeers==' '))\n",
    "    popbeers=np.delete(popbeers,np.where(popbeers==' '))\n",
    "    return popbeers,counts"
   ]
  },
  {
   "cell_type": "code",
   "execution_count": 13,
   "metadata": {},
   "outputs": [],
   "source": [
    "#function is used to create ratings matrix that is used for recommendation algorithm\n",
    "\n",
    "#all_ratings is the user ratings we sraped from beerAdcovate.com\n",
    "#n_beers is the number of beers to use as rows in the matrix (automatically uses most rated beers).\n",
    "#sparsity_threshold is a parameter to only select users that have rated a certain number of the n most rated beers.\n",
    "#by increasing sparsity_threshold matrix sparsity is reduced, but less users are included in matrix\n",
    "\n",
    "def create_ratings_matrix(all_ratings,n_beers,sparsity_threshold=1):\n",
    "    df=pd.DataFrame()\n",
    "    ratings_keys=[k for k in all_ratings.keys()]\n",
    "    popular_beers,_=findNmostPopularBeers(all_ratings,n_beers)\n",
    "    for j in range(0,len(ratings_keys)):\n",
    "        column=np.array([0.00 for k in range(0,len(popular_beers))])\n",
    "        for k in range(0,len(all_ratings[ratings_keys[j]]['beers'])):\n",
    "            if all_ratings[ratings_keys[j]]['beers'][k] in popular_beers:\n",
    "                beer=all_ratings[ratings_keys[j]]['beers'][k]\n",
    "                rating=float(all_ratings[ratings_keys[j]]['ratings'][k])\n",
    "                index=np.where(popular_beers==all_ratings[ratings_keys[j]]['beers'][k])\n",
    "                column[index]=rating\n",
    "        if sum(1 for k in column if k>0)>sparsity_threshold-1:\n",
    "            df[ratings_keys[j]]=column\n",
    "    df.index=popular_beers\n",
    "    return df"
   ]
  },
  {
   "cell_type": "code",
   "execution_count": 14,
   "metadata": {},
   "outputs": [
    {
     "name": "stdout",
     "output_type": "stream",
     "text": [
      "(600, 81)\n"
     ]
    },
    {
     "data": {
      "text/html": [
       "<div>\n",
       "<table border=\"1\" class=\"dataframe\">\n",
       "  <thead>\n",
       "    <tr style=\"text-align: right;\">\n",
       "      <th></th>\n",
       "      <th>Jmonah3</th>\n",
       "      <th>Bugsmcl</th>\n",
       "      <th>Humbolt9</th>\n",
       "      <th>Jimmeekrek</th>\n",
       "      <th>jsearley3364</th>\n",
       "      <th>Chadlossie</th>\n",
       "      <th>WOLFGANG</th>\n",
       "      <th>fossage78</th>\n",
       "      <th>Brent_B</th>\n",
       "      <th>FocalBanged</th>\n",
       "      <th>...</th>\n",
       "      <th>MGoeltz</th>\n",
       "      <th>NRMeadmore</th>\n",
       "      <th>JeannieVolpe</th>\n",
       "      <th>TheBeardedMeemo</th>\n",
       "      <th>justinv29</th>\n",
       "      <th>jsr1961</th>\n",
       "      <th>Beerman811</th>\n",
       "      <th>goalie35</th>\n",
       "      <th>HippieDave56</th>\n",
       "      <th>dclott</th>\n",
       "    </tr>\n",
       "  </thead>\n",
       "  <tbody>\n",
       "    <tr>\n",
       "      <th>Heady Topper</th>\n",
       "      <td>0.00</td>\n",
       "      <td>0.00</td>\n",
       "      <td>0.0</td>\n",
       "      <td>0.00</td>\n",
       "      <td>4.81</td>\n",
       "      <td>4.5</td>\n",
       "      <td>0.00</td>\n",
       "      <td>0.0</td>\n",
       "      <td>0.00</td>\n",
       "      <td>4.31</td>\n",
       "      <td>...</td>\n",
       "      <td>4.78</td>\n",
       "      <td>4.89</td>\n",
       "      <td>1.21</td>\n",
       "      <td>4.81</td>\n",
       "      <td>4.91</td>\n",
       "      <td>4.71</td>\n",
       "      <td>4.16</td>\n",
       "      <td>4.68</td>\n",
       "      <td>4.46</td>\n",
       "      <td>3.47</td>\n",
       "    </tr>\n",
       "    <tr>\n",
       "      <th>Kentucky Brunch Brand Stout</th>\n",
       "      <td>5.00</td>\n",
       "      <td>5.00</td>\n",
       "      <td>5.0</td>\n",
       "      <td>4.81</td>\n",
       "      <td>4.91</td>\n",
       "      <td>5.0</td>\n",
       "      <td>5.00</td>\n",
       "      <td>5.0</td>\n",
       "      <td>4.92</td>\n",
       "      <td>5.00</td>\n",
       "      <td>...</td>\n",
       "      <td>0.00</td>\n",
       "      <td>0.00</td>\n",
       "      <td>0.00</td>\n",
       "      <td>0.00</td>\n",
       "      <td>0.00</td>\n",
       "      <td>0.00</td>\n",
       "      <td>0.00</td>\n",
       "      <td>0.00</td>\n",
       "      <td>0.00</td>\n",
       "      <td>0.00</td>\n",
       "    </tr>\n",
       "    <tr>\n",
       "      <th>Julius</th>\n",
       "      <td>4.88</td>\n",
       "      <td>0.00</td>\n",
       "      <td>0.0</td>\n",
       "      <td>4.87</td>\n",
       "      <td>4.35</td>\n",
       "      <td>4.5</td>\n",
       "      <td>0.00</td>\n",
       "      <td>0.0</td>\n",
       "      <td>0.00</td>\n",
       "      <td>4.50</td>\n",
       "      <td>...</td>\n",
       "      <td>0.00</td>\n",
       "      <td>4.58</td>\n",
       "      <td>0.00</td>\n",
       "      <td>0.00</td>\n",
       "      <td>5.00</td>\n",
       "      <td>4.48</td>\n",
       "      <td>0.00</td>\n",
       "      <td>0.00</td>\n",
       "      <td>0.00</td>\n",
       "      <td>4.80</td>\n",
       "    </tr>\n",
       "    <tr>\n",
       "      <th>Focal Banger</th>\n",
       "      <td>4.75</td>\n",
       "      <td>4.49</td>\n",
       "      <td>0.0</td>\n",
       "      <td>4.60</td>\n",
       "      <td>0.00</td>\n",
       "      <td>4.5</td>\n",
       "      <td>4.33</td>\n",
       "      <td>4.5</td>\n",
       "      <td>0.00</td>\n",
       "      <td>0.00</td>\n",
       "      <td>...</td>\n",
       "      <td>0.00</td>\n",
       "      <td>4.52</td>\n",
       "      <td>0.00</td>\n",
       "      <td>0.00</td>\n",
       "      <td>4.62</td>\n",
       "      <td>4.41</td>\n",
       "      <td>0.00</td>\n",
       "      <td>0.00</td>\n",
       "      <td>0.00</td>\n",
       "      <td>0.00</td>\n",
       "    </tr>\n",
       "    <tr>\n",
       "      <th>KBS (Kentucky Breakfast Stout)</th>\n",
       "      <td>4.75</td>\n",
       "      <td>0.00</td>\n",
       "      <td>0.0</td>\n",
       "      <td>0.00</td>\n",
       "      <td>0.00</td>\n",
       "      <td>4.5</td>\n",
       "      <td>0.00</td>\n",
       "      <td>0.0</td>\n",
       "      <td>0.00</td>\n",
       "      <td>4.19</td>\n",
       "      <td>...</td>\n",
       "      <td>4.96</td>\n",
       "      <td>0.00</td>\n",
       "      <td>0.00</td>\n",
       "      <td>4.76</td>\n",
       "      <td>4.71</td>\n",
       "      <td>0.00</td>\n",
       "      <td>4.43</td>\n",
       "      <td>4.50</td>\n",
       "      <td>4.25</td>\n",
       "      <td>0.00</td>\n",
       "    </tr>\n",
       "  </tbody>\n",
       "</table>\n",
       "<p>5 rows × 81 columns</p>\n",
       "</div>"
      ],
      "text/plain": [
       "                                Jmonah3  Bugsmcl  Humbolt9  Jimmeekrek  \\\n",
       "Heady Topper                       0.00     0.00       0.0        0.00   \n",
       "Kentucky Brunch Brand Stout        5.00     5.00       5.0        4.81   \n",
       "Julius                             4.88     0.00       0.0        4.87   \n",
       "Focal Banger                       4.75     4.49       0.0        4.60   \n",
       "KBS (Kentucky Breakfast Stout)     4.75     0.00       0.0        0.00   \n",
       "\n",
       "                                jsearley3364  Chadlossie  WOLFGANG  fossage78  \\\n",
       "Heady Topper                            4.81         4.5      0.00        0.0   \n",
       "Kentucky Brunch Brand Stout             4.91         5.0      5.00        5.0   \n",
       "Julius                                  4.35         4.5      0.00        0.0   \n",
       "Focal Banger                            0.00         4.5      4.33        4.5   \n",
       "KBS (Kentucky Breakfast Stout)          0.00         4.5      0.00        0.0   \n",
       "\n",
       "                                Brent_B  FocalBanged   ...    MGoeltz  \\\n",
       "Heady Topper                       0.00         4.31   ...       4.78   \n",
       "Kentucky Brunch Brand Stout        4.92         5.00   ...       0.00   \n",
       "Julius                             0.00         4.50   ...       0.00   \n",
       "Focal Banger                       0.00         0.00   ...       0.00   \n",
       "KBS (Kentucky Breakfast Stout)     0.00         4.19   ...       4.96   \n",
       "\n",
       "                                NRMeadmore  JeannieVolpe  TheBeardedMeemo  \\\n",
       "Heady Topper                          4.89          1.21             4.81   \n",
       "Kentucky Brunch Brand Stout           0.00          0.00             0.00   \n",
       "Julius                                4.58          0.00             0.00   \n",
       "Focal Banger                          4.52          0.00             0.00   \n",
       "KBS (Kentucky Breakfast Stout)        0.00          0.00             4.76   \n",
       "\n",
       "                                justinv29  jsr1961  Beerman811  goalie35  \\\n",
       "Heady Topper                         4.91     4.71        4.16      4.68   \n",
       "Kentucky Brunch Brand Stout          0.00     0.00        0.00      0.00   \n",
       "Julius                               5.00     4.48        0.00      0.00   \n",
       "Focal Banger                         4.62     4.41        0.00      0.00   \n",
       "KBS (Kentucky Breakfast Stout)       4.71     0.00        4.43      4.50   \n",
       "\n",
       "                                HippieDave56  dclott  \n",
       "Heady Topper                            4.46    3.47  \n",
       "Kentucky Brunch Brand Stout             0.00    0.00  \n",
       "Julius                                  0.00    4.80  \n",
       "Focal Banger                            0.00    0.00  \n",
       "KBS (Kentucky Breakfast Stout)          4.25    0.00  \n",
       "\n",
       "[5 rows x 81 columns]"
      ]
     },
     "execution_count": 14,
     "metadata": {},
     "output_type": "execute_result"
    }
   ],
   "source": [
    "df=create_ratings_matrix(all_ratings,n_beers=600,sparsity_threshold=5)\n",
    "print(f\"shape of dataframe is {df.shape}\")\n",
    "df.head()"
   ]
  },
  {
   "cell_type": "code",
   "execution_count": 48,
   "metadata": {},
   "outputs": [],
   "source": [
    "#in order to save dataframe to csv for easier testing\n",
    "\n",
    "#df.to_csv(path_or_buf=\"test_ratings_df\")"
   ]
  },
  {
   "cell_type": "code",
   "execution_count": 148,
   "metadata": {},
   "outputs": [],
   "source": [
    "#to read csv file in\n",
    "\n",
    "#df2=pd.read_csv('test_ratings_df',index_col=0)"
   ]
  },
  {
   "cell_type": "markdown",
   "metadata": {},
   "source": [
    "___\n",
    "\n",
    "Below we perform the same data extraction and matrix creation performed earlier, just in a single function. Note that this function is time consuming, mostly because of the data extraction."
   ]
  },
  {
   "cell_type": "code",
   "execution_count": 23,
   "metadata": {},
   "outputs": [],
   "source": [
    "#overall function with following parameters:\n",
    "#vector of beerurls - beer pages from which usernames are scraped (at least length one)\n",
    "#n_recent_from_beers - how many usernames to scrape from each beer pages (default=all)\n",
    "#n_recent_ratings - how many ratings to extract from each user when scraping (default=all)\n",
    "#n_beers - how many beers that should be used in ratings matrix (default=all)\n",
    "#sparsity_constraint - how many popular beers must be rated by user in order for user to be included in matrix (default=0)\n",
    "\n",
    "#function should return ratings matrix according to specified parameters"
   ]
  },
  {
   "cell_type": "code",
   "execution_count": 27,
   "metadata": {},
   "outputs": [],
   "source": [
    "def extract_and_create_ratings_df(beerurls,n_recent_from_beers=0,n_recent_ratings=0,n_beers=0,sparsity_constraint=0):\n",
    "    user_urls=find_usernames(beerurls,n_recent_from_beer=n_recent_from_beers)\n",
    "    all_ratings={}\n",
    "    for userurl in user_urls:\n",
    "        person=User(userurl,noInitialize=True)\n",
    "        if person.username!=\" \":\n",
    "            ratings=person.get_ratings(n_recent_ratings)\n",
    "            all_ratings[person.username]=ratings\n",
    "    ratings_keys=[k for k in all_ratings.keys()]\n",
    "    is_same_length=all([len(all_ratings[k]['beers'])==len(all_ratings[k]['ratings']) for k in ratings_keys])\n",
    "    if not is_same_length:\n",
    "        return \"Data not extracted properly. Try different beerurl's.\"\n",
    "    df=create_ratings_matrix(all_ratings,n_beers,sparsity_constraint)\n",
    "    return df"
   ]
  },
  {
   "cell_type": "code",
   "execution_count": 31,
   "metadata": {},
   "outputs": [
    {
     "name": "stdout",
     "output_type": "stream",
     "text": [
      "CPU times: user 4.57 s, sys: 6.61 s, total: 11.2 s\n",
      "Wall time: 4min 48s\n"
     ]
    }
   ],
   "source": [
    "%%time\n",
    "beerurls=['https://www.beeradvocate.com/beer/profile/23222/78820/',\n",
    "         'https://www.beeradvocate.com/beer/profile/46317/16814/']\n",
    "df=extract_and_create_ratings_df(beerurls,\n",
    "                                 n_recent_from_beers=50,\n",
    "                                 n_recent_ratings=400,\n",
    "                                 n_beers=100)"
   ]
  },
  {
   "cell_type": "code",
   "execution_count": null,
   "metadata": {},
   "outputs": [],
   "source": [
    "print(df.shape)\n",
    "df.head()"
   ]
  },
  {
   "cell_type": "markdown",
   "metadata": {},
   "source": [
    "## More Testing\n",
    "\n",
    "Below we test out different User/Beer class functionalities. Feel free to test them out yourself!"
   ]
  },
  {
   "cell_type": "code",
   "execution_count": 15,
   "metadata": {},
   "outputs": [],
   "source": [
    "#if want to manually find users and test them\n",
    "URL1='https://www.beeradvocate.com/community/members/stonedtrippin.601042/'\n",
    "URL2='https://www.beeradvocate.com/community/members/wolfgang.4062/'\n",
    "URL3='https://www.beeradvocate.com/community/members/narkee.737932/'\n",
    "URL4='https://www.beeradvocate.com/community/members/zach_attack.239886/'"
   ]
  },
  {
   "cell_type": "code",
   "execution_count": 12,
   "metadata": {},
   "outputs": [],
   "source": [
    "test_user=User(URL1)"
   ]
  },
  {
   "cell_type": "code",
   "execution_count": 14,
   "metadata": {},
   "outputs": [
    {
     "data": {
      "text/plain": [
       "{'Gender': 'Male',\n",
       " 'Birthday': 'May 21, 1986 (Age: 32)',\n",
       " 'Location': 'Colorado'}"
      ]
     },
     "execution_count": 14,
     "metadata": {},
     "output_type": "execute_result"
    }
   ],
   "source": [
    "test_user.info"
   ]
  },
  {
   "cell_type": "code",
   "execution_count": 8,
   "metadata": {},
   "outputs": [
    {
     "name": "stdout",
     "output_type": "stream",
     "text": [
      "CPU times: user 23.6 ms, sys: 40.2 ms, total: 63.8 ms\n",
      "Wall time: 2.26 s\n"
     ]
    }
   ],
   "source": [
    "%%time\n",
    "iron_rat_stout = Beer('https://www.beeradvocate.com/beer/profile/23222/78820/')"
   ]
  },
  {
   "cell_type": "code",
   "execution_count": 9,
   "metadata": {},
   "outputs": [
    {
     "name": "stdout",
     "output_type": "stream",
     "text": [
      "{'BrewedBy': 'Toppling Goliath Brewing Company', 'Style': 'American Double / Imperial Stout', 'ABV': '12.00', 'Availability': 'Rotating'}\n",
      "{'Ranking': '1', 'NumReviews': '132', 'NumRatings': '688', 'Pdev': '6.2'}\n",
      "4.84\n"
     ]
    }
   ],
   "source": [
    "print(iron_rat_stout.info)\n",
    "print(iron_rat_stout.stats)\n",
    "print(iron_rat_stout.avg_rating)"
   ]
  },
  {
   "cell_type": "code",
   "execution_count": 317,
   "metadata": {},
   "outputs": [
    {
     "name": "stdout",
     "output_type": "stream",
     "text": [
      "num reviews is 700\n",
      "CPU times: user 239 ms, sys: 320 ms, total: 559 ms\n",
      "Wall time: 16.8 s\n"
     ]
    }
   ],
   "source": [
    "%%time\n",
    "reviews=iron_rat_stout.get_ratings(n_most_recent=1000)\n",
    "print(f\"num reviews is {len(reviews['rating'])}\")"
   ]
  },
  {
   "cell_type": "code",
   "execution_count": 316,
   "metadata": {},
   "outputs": [
    {
     "data": {
      "text/plain": [
       "True"
      ]
     },
     "execution_count": 316,
     "metadata": {},
     "output_type": "execute_result"
    }
   ],
   "source": [
    "len(reviews['usr']) == len(reviews['rating'])"
   ]
  }
 ],
 "metadata": {
  "kernelspec": {
   "display_name": "Python 3",
   "language": "python",
   "name": "python3"
  },
  "language_info": {
   "codemirror_mode": {
    "name": "ipython",
    "version": 3
   },
   "file_extension": ".py",
   "mimetype": "text/x-python",
   "name": "python",
   "nbconvert_exporter": "python",
   "pygments_lexer": "ipython3",
   "version": "3.6.5"
  }
 },
 "nbformat": 4,
 "nbformat_minor": 2
}
