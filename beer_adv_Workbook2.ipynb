{
 "cells": [
  {
   "cell_type": "markdown",
   "metadata": {},
   "source": [
    "## Web Scraping BeerAdvocate.com Using Custom API\n",
    "\n",
    "In this notebook we scrape data from www.beeradvocate.com using custom html parsing methods. With these methods we scrape data to form a Beer class and User class. The Beer class stores the stats, info, and reviews of a particular beer. The User class stores similar data but for a specific user. With this data, we hope we are able to make novel product recommendations for online users.\n",
    "\n",
    "This method has some advantages over the first method using $\\texttt{wget}$ and $\\texttt{grep}$. One is that the method parses the entire html text in one go for all data instead of having to call $\\texttt{wget}$ several times which improves efficiency. Also this method extracts much more data with less tedious work because the parser is built to read all targeted values from any html file."
   ]
  },
  {
   "cell_type": "code",
   "execution_count": 1,
   "metadata": {},
   "outputs": [
    {
     "name": "stdout",
     "output_type": "stream",
     "text": [
      "Requirement already satisfied: Beer_Advocate_API in /opt/conda/lib/python3.6/site-packages\n",
      "\u001b[33mYou are using pip version 9.0.1, however version 10.0.1 is available.\n",
      "You should consider upgrading via the 'pip install --upgrade pip' command.\u001b[0m\n"
     ]
    }
   ],
   "source": [
    "#download custom API for beeradvocate.com\n",
    "#!pip install Beer_Advocate_API"
   ]
  },
  {
   "cell_type": "markdown",
   "metadata": {},
   "source": [
    "For full documentation of this package go to https://rawgit.com/aaronplesset/beer_advocate_api/master/genindex.html"
   ]
  },
  {
   "cell_type": "code",
   "execution_count": 12,
   "metadata": {},
   "outputs": [],
   "source": [
    "import numpy as np\n",
    "import pandas as pd\n",
    "#import custom API\n",
    "import BA\n",
    "from BA import Beer\n",
    "from BA import User"
   ]
  },
  {
   "cell_type": "code",
   "execution_count": 68,
   "metadata": {},
   "outputs": [],
   "source": [
    "#run to inspect contents of custom package\n",
    "?? BA.Beer"
   ]
  },
  {
   "cell_type": "code",
   "execution_count": 21,
   "metadata": {},
   "outputs": [],
   "source": [
    "#use scrape_burger from other notebook for easy scraping\n",
    "def scrape_burger(url = '', top_bun = '', bottom_bun = '', patty = '', napkins=False):\n",
    "    \"\"\"\n",
    "    Scrapes a website's html for text located between the 'top bun' (left side) and 'bottom bun' (right side). \n",
    "    Patty argument is for fine tuning the scraping using regex. Lastly, napkins are for cleaning up the mess.\n",
    "    \"\"\"\n",
    "    url = '\\''+ url + '\\''\n",
    "    bottom_bun = ')\\'' if bottom_bun=='' else '?)(?=' + bottom_bun + ')\\''\n",
    "    burger = '\\'(?<=' + top_bun + ')' + patty + '(.*'+ bottom_bun\n",
    "    if napkins:\n",
    "        cleanup = '\\'(?<=' + napkins + ')' + '(.*)\\'' \n",
    "        x = !wget -qO - {url} | grep -oP $burger | grep -oP $cleanup\n",
    "    else:\n",
    "        x= !wget -qO - {url} | grep -oP $burger \n",
    "    #if regex search fails return space character\n",
    "    if len(x)==0:\n",
    "        return \" \"\n",
    "    return x"
   ]
  },
  {
   "cell_type": "markdown",
   "metadata": {},
   "source": [
    "---\n",
    "\n",
    "## Creating Ratings Matrix:\n",
    "\n",
    "In this chunk we extract lots of user ratings and create a ratings matrix"
   ]
  },
  {
   "cell_type": "code",
   "execution_count": 3,
   "metadata": {},
   "outputs": [],
   "source": [
    "#function is used to convert scraped data to dictionaries\n",
    "def convert_reviews(reviews):\n",
    "    reviews=[review for review in reviews if len(review)==7]\n",
    "    review_dict = {\n",
    "        'date':[review[0] for review in reviews],\n",
    "        'beers': [review[1] for review in reviews],\n",
    "        'brewery':[review[2] for review in reviews],\n",
    "        'beertype':[review[3] for review in reviews],\n",
    "        'abv': [review[4] for review in reviews],\n",
    "        'ratings': [review[5] for review in reviews]\n",
    "    }\n",
    "    return review_dict"
   ]
  },
  {
   "cell_type": "code",
   "execution_count": 7,
   "metadata": {},
   "outputs": [
    {
     "name": "stdout",
     "output_type": "stream",
     "text": [
      "testing 688 users\n"
     ]
    }
   ],
   "source": [
    "#extracting users from this beer page 'https://www.beeradvocate.com/beer/profile/23222/78820/'\n",
    "stout = Beer('/beer/profile/23222/78820/')\n",
    "users = stout.get_reviews()['usr']\n",
    "print(f\"testing {len(users)} users\")"
   ]
  },
  {
   "cell_type": "markdown",
   "metadata": {},
   "source": [
    "For users in the user list that we scraped in the chunk above, we scrape their review data and store it in a large dictionary called all_reviews. This dictionary is later used to create the ratings matrix that is used for recommendation systems."
   ]
  },
  {
   "cell_type": "code",
   "execution_count": 8,
   "metadata": {},
   "outputs": [
    {
     "name": "stdout",
     "output_type": "stream",
     "text": [
      "CPU times: user 5.12 s, sys: 100 ms, total: 5.22 s\n",
      "Wall time: 29 s\n"
     ]
    }
   ],
   "source": [
    "%%time\n",
    "all_reviews={}\n",
    "#only test certain number of users so code does not run as long\n",
    "num_users_tested=25\n",
    "tested_users=users[:num_users_tested]\n",
    "good_tested_users=tested_users.copy()\n",
    "for usr in tested_users:\n",
    "    #print(usr)\n",
    "    temp_user = User(usr)\n",
    "    if temp_user.info!='Sorry, either this user is private or does not exist':\n",
    "        temp_reviews=temp_user.get_reviews(100)\n",
    "        if len(temp_reviews)==0 or len(temp_reviews[0])!=7:\n",
    "            good_tested_users.remove(usr)\n",
    "            print(usr)\n",
    "        else:\n",
    "            all_reviews[usr]=convert_reviews(temp_reviews)\n",
    "    else:\n",
    "        good_tested_users.remove(usr)"
   ]
  },
  {
   "cell_type": "code",
   "execution_count": 9,
   "metadata": {},
   "outputs": [],
   "source": [
    "all_ratings=all_reviews.copy()"
   ]
  },
  {
   "cell_type": "code",
   "execution_count": 13,
   "metadata": {},
   "outputs": [
    {
     "name": "stdout",
     "output_type": "stream",
     "text": [
      "all beer and associated ratings lists have the same length (T/F): True\n",
      "number of users scraped is 22\n",
      "total number of ratings scraped is 1510\n",
      "average ratings/user is 68.63636363636364\n"
     ]
    }
   ],
   "source": [
    "ratings_keys=[k for k in all_ratings.keys()]\n",
    "isSameLength=all([len(all_ratings[k]['beers'])==len(all_ratings[k]['ratings']) for k in ratings_keys])\n",
    "print(f\"all beer and associated ratings lists have the same length (T/F): {isSameLength}\")\n",
    "print(f\"number of users scraped is {len(ratings_keys)}\")\n",
    "numRatings_vec=[len(all_ratings[k]['beers']) for k in ratings_keys]\n",
    "print(f\"total number of ratings scraped is {np.sum(numRatings_vec)}\")\n",
    "print(f\"average ratings/user is {np.mean(numRatings_vec)}\")"
   ]
  },
  {
   "cell_type": "code",
   "execution_count": 14,
   "metadata": {},
   "outputs": [],
   "source": [
    "#function used to see how many users rated each beer from all_ratings data\n",
    "def sortedBeerList(all_ratings):\n",
    "    allbeers=[]\n",
    "    ratings_keys=[k for k in all_ratings.keys()]\n",
    "    for k in ratings_keys:\n",
    "        allbeers+=all_ratings[k]['beers']\n",
    "    x1,x2=np.unique(allbeers,return_counts=True)\n",
    "    return sorted(zip(x2,x1),reverse=True)"
   ]
  },
  {
   "cell_type": "code",
   "execution_count": 15,
   "metadata": {},
   "outputs": [],
   "source": [
    "#function finds n most rated beers from all_ratings data\n",
    "def findNmostPopularBeers(all_ratings,n=0):\n",
    "    sortedbeers=sortedBeerList(all_ratings)\n",
    "    if n==0 or n>=len(sortedbeers):\n",
    "        n=len(sortedbeers)\n",
    "    popbeers=np.array([sortedbeers[k][1] for k in range(0,n)])\n",
    "    counts=np.array([sortedbeers[k][0] for k in range(0,n)])\n",
    "    return popbeers,counts"
   ]
  },
  {
   "cell_type": "code",
   "execution_count": 16,
   "metadata": {},
   "outputs": [],
   "source": [
    "#function is used to create ratings matrix that is used for recommendation algorithm\n",
    "\n",
    "#all_ratings is the user ratings we sraped from beerAdcovate.com\n",
    "#n_beers is the number of beers to use as rows in the matrix (automatically uses most rated beers).\n",
    "#sparsity_threshold is a parameter to only select users that have rated a certain number of the n most rated beers.\n",
    "#by increasing sparsity_threshold matrix sparsity is reduced, but less users are included in matrix\n",
    "\n",
    "def create_ratings_matrix(all_ratings,n_beers,sparsity_threshold=1):\n",
    "    df=pd.DataFrame()\n",
    "    ratings_keys=[k for k in all_ratings.keys()]\n",
    "    popular_beers,_=findNmostPopularBeers(all_ratings,n_beers)\n",
    "    for j in range(0,len(ratings_keys)):\n",
    "        column=np.array([0.00 for k in range(0,len(popular_beers))])\n",
    "        for k in range(0,len(all_ratings[ratings_keys[j]]['beers'])):\n",
    "            if all_ratings[ratings_keys[j]]['beers'][k] in popular_beers:\n",
    "                beer=all_ratings[ratings_keys[j]]['beers'][k]\n",
    "                rating=float(all_ratings[ratings_keys[j]]['ratings'][k])\n",
    "                index=np.where(popular_beers==all_ratings[ratings_keys[j]]['beers'][k])\n",
    "                column[index]=rating\n",
    "        if sum(1 for k in column if k>0)>sparsity_threshold-1:\n",
    "            df[ratings_keys[j]]=column\n",
    "    df.index=popular_beers\n",
    "    return df"
   ]
  },
  {
   "cell_type": "markdown",
   "metadata": {},
   "source": [
    "___\n",
    "\n",
    "Below is the resulting ratings matrix that can be used for our recommendation algorithms. By reading in more users, this dataframe can be made larger, but it can be quite time intensive. From our testing, we find that abot 70 reviews are scraped per second on average."
   ]
  },
  {
   "cell_type": "code",
   "execution_count": 17,
   "metadata": {},
   "outputs": [
    {
     "name": "stdout",
     "output_type": "stream",
     "text": [
      "(600, 21)\n"
     ]
    },
    {
     "data": {
      "text/html": [
       "<div>\n",
       "<table border=\"1\" class=\"dataframe\">\n",
       "  <thead>\n",
       "    <tr style=\"text-align: right;\">\n",
       "      <th></th>\n",
       "      <th>Bugsmcl</th>\n",
       "      <th>Humbolt9</th>\n",
       "      <th>Jimmeekrek</th>\n",
       "      <th>StonedTrippin</th>\n",
       "      <th>jsearley3364</th>\n",
       "      <th>Chadlossie</th>\n",
       "      <th>WOLFGANG</th>\n",
       "      <th>fossage78</th>\n",
       "      <th>Brent_B</th>\n",
       "      <th>FocalBanged</th>\n",
       "      <th>...</th>\n",
       "      <th>HoldenDurden</th>\n",
       "      <th>Eidel18</th>\n",
       "      <th>GlennF</th>\n",
       "      <th>Narkee</th>\n",
       "      <th>Zach_Attack</th>\n",
       "      <th>ManBearPat</th>\n",
       "      <th>AMCimpi</th>\n",
       "      <th>DFrisselll</th>\n",
       "      <th>rtaps</th>\n",
       "      <th>Nicholas-Drinks</th>\n",
       "    </tr>\n",
       "  </thead>\n",
       "  <tbody>\n",
       "    <tr>\n",
       "      <th>Kentucky Brunch Brand Stout</th>\n",
       "      <td>5.00</td>\n",
       "      <td>5.0</td>\n",
       "      <td>4.81</td>\n",
       "      <td>0.0</td>\n",
       "      <td>4.91</td>\n",
       "      <td>5.0</td>\n",
       "      <td>5.0</td>\n",
       "      <td>5.00</td>\n",
       "      <td>4.92</td>\n",
       "      <td>5.00</td>\n",
       "      <td>...</td>\n",
       "      <td>4.5</td>\n",
       "      <td>5.0</td>\n",
       "      <td>5.00</td>\n",
       "      <td>4.93</td>\n",
       "      <td>4.93</td>\n",
       "      <td>4.67</td>\n",
       "      <td>4.58</td>\n",
       "      <td>4.25</td>\n",
       "      <td>4.84</td>\n",
       "      <td>5.00</td>\n",
       "    </tr>\n",
       "    <tr>\n",
       "      <th>Heady Topper</th>\n",
       "      <td>0.00</td>\n",
       "      <td>0.0</td>\n",
       "      <td>0.00</td>\n",
       "      <td>0.0</td>\n",
       "      <td>4.81</td>\n",
       "      <td>0.0</td>\n",
       "      <td>0.0</td>\n",
       "      <td>0.00</td>\n",
       "      <td>0.00</td>\n",
       "      <td>4.31</td>\n",
       "      <td>...</td>\n",
       "      <td>0.0</td>\n",
       "      <td>0.0</td>\n",
       "      <td>4.79</td>\n",
       "      <td>4.85</td>\n",
       "      <td>4.34</td>\n",
       "      <td>4.69</td>\n",
       "      <td>0.00</td>\n",
       "      <td>0.00</td>\n",
       "      <td>4.50</td>\n",
       "      <td>4.52</td>\n",
       "    </tr>\n",
       "    <tr>\n",
       "      <th>Mornin' Delight</th>\n",
       "      <td>4.56</td>\n",
       "      <td>0.0</td>\n",
       "      <td>4.63</td>\n",
       "      <td>0.0</td>\n",
       "      <td>4.91</td>\n",
       "      <td>0.0</td>\n",
       "      <td>0.0</td>\n",
       "      <td>0.00</td>\n",
       "      <td>0.00</td>\n",
       "      <td>4.50</td>\n",
       "      <td>...</td>\n",
       "      <td>0.0</td>\n",
       "      <td>5.0</td>\n",
       "      <td>4.56</td>\n",
       "      <td>0.00</td>\n",
       "      <td>4.58</td>\n",
       "      <td>4.51</td>\n",
       "      <td>0.00</td>\n",
       "      <td>0.00</td>\n",
       "      <td>0.00</td>\n",
       "      <td>0.00</td>\n",
       "    </tr>\n",
       "    <tr>\n",
       "      <th>Hunahpu's Imperial Stout - Double Barrel Aged</th>\n",
       "      <td>0.00</td>\n",
       "      <td>0.0</td>\n",
       "      <td>0.00</td>\n",
       "      <td>0.0</td>\n",
       "      <td>0.00</td>\n",
       "      <td>4.0</td>\n",
       "      <td>0.0</td>\n",
       "      <td>0.00</td>\n",
       "      <td>0.00</td>\n",
       "      <td>4.75</td>\n",
       "      <td>...</td>\n",
       "      <td>0.0</td>\n",
       "      <td>5.0</td>\n",
       "      <td>5.00</td>\n",
       "      <td>0.00</td>\n",
       "      <td>4.81</td>\n",
       "      <td>3.83</td>\n",
       "      <td>4.79</td>\n",
       "      <td>0.00</td>\n",
       "      <td>0.00</td>\n",
       "      <td>0.00</td>\n",
       "    </tr>\n",
       "    <tr>\n",
       "      <th>Barrel-Aged Abraxas</th>\n",
       "      <td>4.91</td>\n",
       "      <td>0.0</td>\n",
       "      <td>5.00</td>\n",
       "      <td>0.0</td>\n",
       "      <td>0.00</td>\n",
       "      <td>5.0</td>\n",
       "      <td>0.0</td>\n",
       "      <td>4.25</td>\n",
       "      <td>0.00</td>\n",
       "      <td>0.00</td>\n",
       "      <td>...</td>\n",
       "      <td>0.0</td>\n",
       "      <td>5.0</td>\n",
       "      <td>4.58</td>\n",
       "      <td>0.00</td>\n",
       "      <td>4.97</td>\n",
       "      <td>0.00</td>\n",
       "      <td>0.00</td>\n",
       "      <td>0.00</td>\n",
       "      <td>4.99</td>\n",
       "      <td>0.00</td>\n",
       "    </tr>\n",
       "  </tbody>\n",
       "</table>\n",
       "<p>5 rows × 21 columns</p>\n",
       "</div>"
      ],
      "text/plain": [
       "                                               Bugsmcl  Humbolt9  Jimmeekrek  \\\n",
       "Kentucky Brunch Brand Stout                       5.00       5.0        4.81   \n",
       "Heady Topper                                      0.00       0.0        0.00   \n",
       "Mornin' Delight                                   4.56       0.0        4.63   \n",
       "Hunahpu's Imperial Stout - Double Barrel Aged     0.00       0.0        0.00   \n",
       "Barrel-Aged Abraxas                               4.91       0.0        5.00   \n",
       "\n",
       "                                               StonedTrippin  jsearley3364  \\\n",
       "Kentucky Brunch Brand Stout                              0.0          4.91   \n",
       "Heady Topper                                             0.0          4.81   \n",
       "Mornin' Delight                                          0.0          4.91   \n",
       "Hunahpu's Imperial Stout - Double Barrel Aged            0.0          0.00   \n",
       "Barrel-Aged Abraxas                                      0.0          0.00   \n",
       "\n",
       "                                               Chadlossie  WOLFGANG  \\\n",
       "Kentucky Brunch Brand Stout                           5.0       5.0   \n",
       "Heady Topper                                          0.0       0.0   \n",
       "Mornin' Delight                                       0.0       0.0   \n",
       "Hunahpu's Imperial Stout - Double Barrel Aged         4.0       0.0   \n",
       "Barrel-Aged Abraxas                                   5.0       0.0   \n",
       "\n",
       "                                               fossage78  Brent_B  \\\n",
       "Kentucky Brunch Brand Stout                         5.00     4.92   \n",
       "Heady Topper                                        0.00     0.00   \n",
       "Mornin' Delight                                     0.00     0.00   \n",
       "Hunahpu's Imperial Stout - Double Barrel Aged       0.00     0.00   \n",
       "Barrel-Aged Abraxas                                 4.25     0.00   \n",
       "\n",
       "                                               FocalBanged       ...         \\\n",
       "Kentucky Brunch Brand Stout                           5.00       ...          \n",
       "Heady Topper                                          4.31       ...          \n",
       "Mornin' Delight                                       4.50       ...          \n",
       "Hunahpu's Imperial Stout - Double Barrel Aged         4.75       ...          \n",
       "Barrel-Aged Abraxas                                   0.00       ...          \n",
       "\n",
       "                                               HoldenDurden  Eidel18  GlennF  \\\n",
       "Kentucky Brunch Brand Stout                             4.5      5.0    5.00   \n",
       "Heady Topper                                            0.0      0.0    4.79   \n",
       "Mornin' Delight                                         0.0      5.0    4.56   \n",
       "Hunahpu's Imperial Stout - Double Barrel Aged           0.0      5.0    5.00   \n",
       "Barrel-Aged Abraxas                                     0.0      5.0    4.58   \n",
       "\n",
       "                                               Narkee  Zach_Attack  \\\n",
       "Kentucky Brunch Brand Stout                      4.93         4.93   \n",
       "Heady Topper                                     4.85         4.34   \n",
       "Mornin' Delight                                  0.00         4.58   \n",
       "Hunahpu's Imperial Stout - Double Barrel Aged    0.00         4.81   \n",
       "Barrel-Aged Abraxas                              0.00         4.97   \n",
       "\n",
       "                                               ManBearPat  AMCimpi  \\\n",
       "Kentucky Brunch Brand Stout                          4.67     4.58   \n",
       "Heady Topper                                         4.69     0.00   \n",
       "Mornin' Delight                                      4.51     0.00   \n",
       "Hunahpu's Imperial Stout - Double Barrel Aged        3.83     4.79   \n",
       "Barrel-Aged Abraxas                                  0.00     0.00   \n",
       "\n",
       "                                               DFrisselll  rtaps  \\\n",
       "Kentucky Brunch Brand Stout                          4.25   4.84   \n",
       "Heady Topper                                         0.00   4.50   \n",
       "Mornin' Delight                                      0.00   0.00   \n",
       "Hunahpu's Imperial Stout - Double Barrel Aged        0.00   0.00   \n",
       "Barrel-Aged Abraxas                                  0.00   4.99   \n",
       "\n",
       "                                               Nicholas-Drinks  \n",
       "Kentucky Brunch Brand Stout                               5.00  \n",
       "Heady Topper                                              4.52  \n",
       "Mornin' Delight                                           0.00  \n",
       "Hunahpu's Imperial Stout - Double Barrel Aged             0.00  \n",
       "Barrel-Aged Abraxas                                       0.00  \n",
       "\n",
       "[5 rows x 21 columns]"
      ]
     },
     "execution_count": 17,
     "metadata": {},
     "output_type": "execute_result"
    }
   ],
   "source": [
    "df=create_ratings_matrix(all_ratings,n_beers=600,sparsity_threshold=5)\n",
    "print(df.shape)\n",
    "df.head()"
   ]
  },
  {
   "cell_type": "code",
   "execution_count": 18,
   "metadata": {},
   "outputs": [],
   "source": [
    "#df.to_csv(path_or_buf=\"test_ratings_df_6.2.18\")"
   ]
  },
  {
   "cell_type": "markdown",
   "metadata": {},
   "source": [
    "---\n",
    "\n",
    "## Scraping Popular Beers:\n",
    "\n",
    "In this chunk we extract info on the most popular beers and store it into a dataframe."
   ]
  },
  {
   "cell_type": "code",
   "execution_count": 19,
   "metadata": {},
   "outputs": [],
   "source": [
    "#Extract many beer links from top beer page (or new beer page)\n",
    "#then use beer links to extract info on many beers and save it"
   ]
  },
  {
   "cell_type": "code",
   "execution_count": 22,
   "metadata": {},
   "outputs": [
    {
     "data": {
      "text/plain": [
       "True"
      ]
     },
     "execution_count": 22,
     "metadata": {},
     "output_type": "execute_result"
    }
   ],
   "source": [
    "top_beer_url='https://www.beeradvocate.com/lists/top/'\n",
    "new_beers_url='https://www.beeradvocate.com/beer/new/'\n",
    "URL_base='/beer/profile/'\n",
    "\n",
    "beer_scrape=scrape_burger(url=top_beer_url,top_bun='/beer/profile/',bottom_bun='\"><b>')\n",
    "beer_names=scrape_burger(url=top_beer_url,top_bun='/\"><b>',bottom_bun='</b></a><div id=\"extendedInfo\">')\n",
    "top_beer_page_urls=[URL_base+beer_scrape[k] for k in range(0,len(beer_scrape)) if k%2==0]\n",
    "len(beer_names)==len(top_beer_page_urls)"
   ]
  },
  {
   "cell_type": "code",
   "execution_count": 23,
   "metadata": {},
   "outputs": [
    {
     "data": {
      "text/plain": [
       "'/beer/profile/23222/78820/'"
      ]
     },
     "execution_count": 23,
     "metadata": {},
     "output_type": "execute_result"
    }
   ],
   "source": [
    "top_beer_page_urls[0]"
   ]
  },
  {
   "cell_type": "code",
   "execution_count": 24,
   "metadata": {},
   "outputs": [
    {
     "data": {
      "text/plain": [
       "'Kentucky Brunch Brand Stout'"
      ]
     },
     "execution_count": 24,
     "metadata": {},
     "output_type": "execute_result"
    }
   ],
   "source": [
    "beer_names[0]"
   ]
  },
  {
   "cell_type": "code",
   "execution_count": 28,
   "metadata": {},
   "outputs": [],
   "source": [
    "def createBeerDF(beer_page_urls,topindex=False):\n",
    "    if topindex==False:\n",
    "        topindex=len(beer_page_urls)\n",
    "    all_info={}\n",
    "    for k in range(0,topindex):\n",
    "        temp_beer=Beer(url=beer_page_urls[k])\n",
    "        all_info[temp_beer.get_name()]=temp_beer.info\n",
    "    all_info_keys=all_info.keys()\n",
    "\n",
    "    #create one row of data frame at a time\n",
    "    df=pd.DataFrame(columns=['brewery','state','country','website','style',\n",
    "                                'abv','availability','description','ranking','num_reviews','num_ratings','num_wants'])\n",
    "    for k in all_info_keys:\n",
    "        try:\n",
    "            if len(all_info[k]['Notes  Commercial Description'])==0:\n",
    "                notes=''\n",
    "            else:\n",
    "                notes=all_info[k]['Notes  Commercial Description'][0]\n",
    "            if len(all_info[k]['Brewed by'])==3:\n",
    "                state=''\n",
    "                country=all_info[k]['Brewed by'][1]\n",
    "                website=all_info[k]['Brewed by'][2]\n",
    "            elif len(all_info[k]['Brewed by'])==4:\n",
    "                state=all_info[k]['Brewed by'][1]\n",
    "                country=all_info[k]['Brewed by'][2]\n",
    "                website=all_info[k]['Brewed by'][3]\n",
    "            else:\n",
    "                state=''\n",
    "                country=all_info[k]['Brewed by'][1]\n",
    "                website=''\n",
    "\n",
    "            row=[all_info[k]['Brewed by'][0], state,\n",
    "                country, website, all_info[k]['Style'][0],\n",
    "                all_info[k]['Alcohol by volume (ABV)'][0], all_info[k]['Availability'][0],\n",
    "                notes, all_info[k]['Ranking'][0], all_info[k]['Reviews'][0],\n",
    "                all_info[k]['Ratings'][0], all_info[k]['Wants'][0]\n",
    "                ]\n",
    "            df.loc[k]=row \n",
    "        except:\n",
    "            print(f\"Not enough info scraped for beer: {k}\")\n",
    "    return df"
   ]
  },
  {
   "cell_type": "code",
   "execution_count": 29,
   "metadata": {},
   "outputs": [
    {
     "name": "stdout",
     "output_type": "stream",
     "text": [
      "CPU times: user 4.41 s, sys: 91 ms, total: 4.5 s\n",
      "Wall time: 16.6 s\n"
     ]
    }
   ],
   "source": [
    "%%time\n",
    "df2=createBeerDF(top_beer_page_urls,50)"
   ]
  },
  {
   "cell_type": "markdown",
   "metadata": {},
   "source": [
    "___\n",
    "\n",
    "This dataframe can be used to perform exploratory data analaysis on popular beers on the website. A variety of interesting information is stored in it. For instance, one could group by beer style and examine the most popular words in the beer descriptions."
   ]
  },
  {
   "cell_type": "code",
   "execution_count": 30,
   "metadata": {},
   "outputs": [
    {
     "name": "stdout",
     "output_type": "stream",
     "text": [
      "(50, 12)\n"
     ]
    },
    {
     "data": {
      "text/html": [
       "<div>\n",
       "<table border=\"1\" class=\"dataframe\">\n",
       "  <thead>\n",
       "    <tr style=\"text-align: right;\">\n",
       "      <th></th>\n",
       "      <th>brewery</th>\n",
       "      <th>state</th>\n",
       "      <th>country</th>\n",
       "      <th>website</th>\n",
       "      <th>style</th>\n",
       "      <th>abv</th>\n",
       "      <th>availability</th>\n",
       "      <th>description</th>\n",
       "      <th>ranking</th>\n",
       "      <th>num_reviews</th>\n",
       "      <th>num_ratings</th>\n",
       "      <th>num_wants</th>\n",
       "    </tr>\n",
       "  </thead>\n",
       "  <tbody>\n",
       "    <tr>\n",
       "      <th>Kentucky Brunch Brand Stout</th>\n",
       "      <td>Toppling Goliath Brewing Company</td>\n",
       "      <td>Iowa</td>\n",
       "      <td>United States</td>\n",
       "      <td>tgbrews.com</td>\n",
       "      <td>American Double  Imperial Stout</td>\n",
       "      <td>12.00%</td>\n",
       "      <td>Rotating</td>\n",
       "      <td>This beer is the real McCoy. Barrel aged and c...</td>\n",
       "      <td>#1</td>\n",
       "      <td>132</td>\n",
       "      <td>689</td>\n",
       "      <td>3700</td>\n",
       "    </tr>\n",
       "    <tr>\n",
       "      <th>Heady Topper</th>\n",
       "      <td>The Alchemist Brewery and Visitors Center</td>\n",
       "      <td>Vermont</td>\n",
       "      <td>United States</td>\n",
       "      <td>alchemistbeer.com</td>\n",
       "      <td>American Double  Imperial IPA</td>\n",
       "      <td>8.00%</td>\n",
       "      <td>Year-round</td>\n",
       "      <td>\"An American Double IPA\" 75 IBU 8.0% ABV. \"Dri...</td>\n",
       "      <td>#2</td>\n",
       "      <td>2459</td>\n",
       "      <td>14098</td>\n",
       "      <td>9439</td>\n",
       "    </tr>\n",
       "    <tr>\n",
       "      <th>Barrel-Aged Abraxas</th>\n",
       "      <td>Perennial Artisan Ales</td>\n",
       "      <td>Missouri</td>\n",
       "      <td>United States</td>\n",
       "      <td>perennialbeer.com</td>\n",
       "      <td>American Double  Imperial Stout</td>\n",
       "      <td>11.00%</td>\n",
       "      <td>Rotating</td>\n",
       "      <td>Imperial Stout aged Twelve months in Rittenhou...</td>\n",
       "      <td>#3</td>\n",
       "      <td>142</td>\n",
       "      <td>1412</td>\n",
       "      <td>2537</td>\n",
       "    </tr>\n",
       "    <tr>\n",
       "      <th>Marshmallow Handjee</th>\n",
       "      <td>3 Floyds Brewing Co.</td>\n",
       "      <td>Indiana</td>\n",
       "      <td>United States</td>\n",
       "      <td>3floyds.com</td>\n",
       "      <td>Russian Imperial Stout</td>\n",
       "      <td>15.00%</td>\n",
       "      <td>Spring</td>\n",
       "      <td>Dark Lord Russian Imperial Stout aged in a var...</td>\n",
       "      <td>#4</td>\n",
       "      <td>317</td>\n",
       "      <td>1589</td>\n",
       "      <td>4491</td>\n",
       "    </tr>\n",
       "    <tr>\n",
       "      <th>Hunahpu's Imperial Stout - Double Barrel Aged</th>\n",
       "      <td>Cigar City Brewing</td>\n",
       "      <td>Florida</td>\n",
       "      <td>United States</td>\n",
       "      <td>cigarcitybrewing.com</td>\n",
       "      <td>American Double  Imperial Stout</td>\n",
       "      <td>11.00%</td>\n",
       "      <td>Rotating</td>\n",
       "      <td>Stout aged on Peruvian cacao nibs ancho and pa...</td>\n",
       "      <td>#5</td>\n",
       "      <td>154</td>\n",
       "      <td>1562</td>\n",
       "      <td>1708</td>\n",
       "    </tr>\n",
       "  </tbody>\n",
       "</table>\n",
       "</div>"
      ],
      "text/plain": [
       "                                                                                 brewery  \\\n",
       "Kentucky Brunch Brand Stout                             Toppling Goliath Brewing Company   \n",
       "Heady Topper                                   The Alchemist Brewery and Visitors Center   \n",
       "Barrel-Aged Abraxas                                               Perennial Artisan Ales   \n",
       "Marshmallow Handjee                                                 3 Floyds Brewing Co.   \n",
       "Hunahpu's Imperial Stout - Double Barrel Aged                         Cigar City Brewing   \n",
       "\n",
       "                                                  state        country  \\\n",
       "Kentucky Brunch Brand Stout                        Iowa  United States   \n",
       "Heady Topper                                    Vermont  United States   \n",
       "Barrel-Aged Abraxas                            Missouri  United States   \n",
       "Marshmallow Handjee                             Indiana  United States   \n",
       "Hunahpu's Imperial Stout - Double Barrel Aged   Florida  United States   \n",
       "\n",
       "                                                            website  \\\n",
       "Kentucky Brunch Brand Stout                             tgbrews.com   \n",
       "Heady Topper                                      alchemistbeer.com   \n",
       "Barrel-Aged Abraxas                               perennialbeer.com   \n",
       "Marshmallow Handjee                                     3floyds.com   \n",
       "Hunahpu's Imperial Stout - Double Barrel Aged  cigarcitybrewing.com   \n",
       "\n",
       "                                                                         style  \\\n",
       "Kentucky Brunch Brand Stout                    American Double  Imperial Stout   \n",
       "Heady Topper                                     American Double  Imperial IPA   \n",
       "Barrel-Aged Abraxas                            American Double  Imperial Stout   \n",
       "Marshmallow Handjee                                     Russian Imperial Stout   \n",
       "Hunahpu's Imperial Stout - Double Barrel Aged  American Double  Imperial Stout   \n",
       "\n",
       "                                                   abv availability  \\\n",
       "Kentucky Brunch Brand Stout                     12.00%     Rotating   \n",
       "Heady Topper                                     8.00%   Year-round   \n",
       "Barrel-Aged Abraxas                             11.00%     Rotating   \n",
       "Marshmallow Handjee                             15.00%       Spring   \n",
       "Hunahpu's Imperial Stout - Double Barrel Aged   11.00%     Rotating   \n",
       "\n",
       "                                                                                     description  \\\n",
       "Kentucky Brunch Brand Stout                    This beer is the real McCoy. Barrel aged and c...   \n",
       "Heady Topper                                   \"An American Double IPA\" 75 IBU 8.0% ABV. \"Dri...   \n",
       "Barrel-Aged Abraxas                            Imperial Stout aged Twelve months in Rittenhou...   \n",
       "Marshmallow Handjee                            Dark Lord Russian Imperial Stout aged in a var...   \n",
       "Hunahpu's Imperial Stout - Double Barrel Aged  Stout aged on Peruvian cacao nibs ancho and pa...   \n",
       "\n",
       "                                              ranking num_reviews num_ratings  \\\n",
       "Kentucky Brunch Brand Stout                        #1         132         689   \n",
       "Heady Topper                                       #2        2459       14098   \n",
       "Barrel-Aged Abraxas                                #3         142        1412   \n",
       "Marshmallow Handjee                                #4         317        1589   \n",
       "Hunahpu's Imperial Stout - Double Barrel Aged      #5         154        1562   \n",
       "\n",
       "                                              num_wants  \n",
       "Kentucky Brunch Brand Stout                        3700  \n",
       "Heady Topper                                       9439  \n",
       "Barrel-Aged Abraxas                                2537  \n",
       "Marshmallow Handjee                                4491  \n",
       "Hunahpu's Imperial Stout - Double Barrel Aged      1708  "
      ]
     },
     "execution_count": 30,
     "metadata": {},
     "output_type": "execute_result"
    }
   ],
   "source": [
    "print(df2.shape)\n",
    "df2.head()"
   ]
  },
  {
   "cell_type": "code",
   "execution_count": 31,
   "metadata": {},
   "outputs": [
    {
     "data": {
      "text/plain": [
       "'Pliny the Younger the man was Pliny the Elder’s nephew and adopted son. They lived nearly 2000 years ago! Pliny the Elder is our Double IPA so we felt it was fitting to name our Triple IPA after his son. It is almost a true Triple IPA with triple the amount of hops as a regular I.P.A. That said it is extremely difficult time and space consuming and very expensive to make. And that is why we don’t make it more often! This beer is very full-bodied with tons of hop character in the nose and throughout. It is also deceptively well-balanced and smooth.'"
      ]
     },
     "execution_count": 31,
     "metadata": {},
     "output_type": "execute_result"
    }
   ],
   "source": [
    "df2.iloc[6]['description']"
   ]
  },
  {
   "cell_type": "code",
   "execution_count": 32,
   "metadata": {},
   "outputs": [],
   "source": [
    "#df2.to_csv(path_or_buf=\"top_beer_df_6.2.18\")"
   ]
  },
  {
   "cell_type": "markdown",
   "metadata": {},
   "source": [
    "---\n",
    "\n",
    "## Scraping Beers from All Styles:\n",
    "\n",
    "In this chunk we find popular beers from each style and try to create a big dataframe of their info. This is similar to what we did for the above, except now we extract beers from every listed style instead of the overall popular beer page."
   ]
  },
  {
   "cell_type": "code",
   "execution_count": 33,
   "metadata": {},
   "outputs": [],
   "source": [
    "#loop through beer styles on https://www.beeradvocate.com/beer/style/\n",
    "#then scrape each beer link on each beer style page"
   ]
  },
  {
   "cell_type": "code",
   "execution_count": 46,
   "metadata": {},
   "outputs": [],
   "source": [
    "#findBeers goes through all beer styles and extracts the first 50 most popular beers\n",
    "#returns dictionary where each beer style is linked with list of beer urls\n",
    "def findBeers(search_url='https://www.beeradvocate.com/beer/style/'):\n",
    "    import requests\n",
    "    dict={}\n",
    "    \n",
    "    main_html=requests.get(search_url).text\n",
    "    parser=BA.beer.ba_parser(vals=['ba-content'],save_urls=True)\n",
    "    parser.feed(main_html)\n",
    "    parser.clean_lines()\n",
    "    info=parser.lines\n",
    "    \n",
    "    base_url='https://www.beeradvocate.com'\n",
    "    style_urls=[base_url+end for end in parser.urls]\n",
    "    for url in style_urls:\n",
    "        style_html=requests.get(url).text\n",
    "        style_parser=BA.beer.ba_parser(attributes=['id','class'],vals=['titleBar','ba-content'],save_urls=True)\n",
    "        style_parser.feed(style_html)\n",
    "        style_parser.clean_lines()\n",
    "        info=style_parser.lines\n",
    "        #extract name as beer_style\n",
    "        beer_style=info[0]\n",
    "        #extract beer_urls\n",
    "        beer_urls=[end for end in style_parser.urls if 'profile' in end]\n",
    "        beer_urls=[beer_urls[k] for k in range(0,len(beer_urls)) if k%2==0]\n",
    "        dict[beer_style]=beer_urls\n",
    "    return dict "
   ]
  },
  {
   "cell_type": "code",
   "execution_count": 47,
   "metadata": {},
   "outputs": [
    {
     "name": "stdout",
     "output_type": "stream",
     "text": [
      "CPU times: user 8.42 s, sys: 149 ms, total: 8.57 s\n",
      "Wall time: 29.3 s\n"
     ]
    }
   ],
   "source": [
    "%%time\n",
    "beer_dict=findBeers()"
   ]
  },
  {
   "cell_type": "code",
   "execution_count": 48,
   "metadata": {},
   "outputs": [
    {
     "name": "stdout",
     "output_type": "stream",
     "text": [
      "5171\n",
      "1040\n"
     ]
    },
    {
     "data": {
      "text/plain": [
       "['/beer/profile/192/607/',\n",
       " '/beer/profile/694/15881/',\n",
       " '/beer/profile/2743/35732/']"
      ]
     },
     "execution_count": 48,
     "metadata": {},
     "output_type": "execute_result"
    }
   ],
   "source": [
    "beer_dict_keys=[key for key in beer_dict.keys()]\n",
    "all_beer_urls=[]\n",
    "some_beer_urls=[]\n",
    "for key in beer_dict_keys:\n",
    "    all_beer_urls+=beer_dict[key]\n",
    "    some_beer_urls+=beer_dict[key][:10]\n",
    "print(len(all_beer_urls))\n",
    "print(len(some_beer_urls))\n",
    "all_beer_urls[:3]"
   ]
  },
  {
   "cell_type": "code",
   "execution_count": 49,
   "metadata": {},
   "outputs": [
    {
     "name": "stdout",
     "output_type": "stream",
     "text": [
      "CPU times: user 1min 33s, sys: 1.5 s, total: 1min 34s\n",
      "Wall time: 6min 59s\n"
     ]
    }
   ],
   "source": [
    "%%time\n",
    "#can be time intensive based on how many beers are scraped\n",
    "df3=createBeerDF(some_beer_urls)"
   ]
  },
  {
   "cell_type": "code",
   "execution_count": 50,
   "metadata": {},
   "outputs": [
    {
     "name": "stdout",
     "output_type": "stream",
     "text": [
      "(1028, 12)\n"
     ]
    },
    {
     "data": {
      "text/html": [
       "<div>\n",
       "<table border=\"1\" class=\"dataframe\">\n",
       "  <thead>\n",
       "    <tr style=\"text-align: right;\">\n",
       "      <th></th>\n",
       "      <th>brewery</th>\n",
       "      <th>state</th>\n",
       "      <th>country</th>\n",
       "      <th>website</th>\n",
       "      <th>style</th>\n",
       "      <th>abv</th>\n",
       "      <th>availability</th>\n",
       "      <th>description</th>\n",
       "      <th>ranking</th>\n",
       "      <th>num_reviews</th>\n",
       "      <th>num_ratings</th>\n",
       "      <th>num_wants</th>\n",
       "    </tr>\n",
       "  </thead>\n",
       "  <tbody>\n",
       "    <tr>\n",
       "      <th>Fat Tire Amber Ale</th>\n",
       "      <td>New Belgium Brewing</td>\n",
       "      <td>Colorado</td>\n",
       "      <td>United States</td>\n",
       "      <td>newbelgium.com</td>\n",
       "      <td>American Amber  Red Ale</td>\n",
       "      <td>5.20%</td>\n",
       "      <td>Year-round</td>\n",
       "      <td>No notes at this time.</td>\n",
       "      <td>#40195</td>\n",
       "      <td>2080</td>\n",
       "      <td>8898</td>\n",
       "      <td>248</td>\n",
       "    </tr>\n",
       "    <tr>\n",
       "      <th>Nugget Nectar</th>\n",
       "      <td>Tröegs Brewing Company</td>\n",
       "      <td>Pennsylvania</td>\n",
       "      <td>United States</td>\n",
       "      <td>troegs.com</td>\n",
       "      <td>American Amber  Red Ale</td>\n",
       "      <td>7.50%</td>\n",
       "      <td>Spring</td>\n",
       "      <td>Squeeze those hops for all they're worth! Nugg...</td>\n",
       "      <td>#451</td>\n",
       "      <td>2573</td>\n",
       "      <td>8657</td>\n",
       "      <td>1430</td>\n",
       "    </tr>\n",
       "    <tr>\n",
       "      <th>Hop Head Red Ale</th>\n",
       "      <td>Green Flash Brewing Co.</td>\n",
       "      <td>California</td>\n",
       "      <td>United States</td>\n",
       "      <td>greenflashbrew.com</td>\n",
       "      <td>American Amber  Red Ale</td>\n",
       "      <td>8.10%</td>\n",
       "      <td>Year-round</td>\n",
       "      <td>In 2011 the recipe was altered to bump the IBU...</td>\n",
       "      <td>#5041</td>\n",
       "      <td>965</td>\n",
       "      <td>3422</td>\n",
       "      <td>178</td>\n",
       "    </tr>\n",
       "    <tr>\n",
       "      <th>Amber Ale</th>\n",
       "      <td>Bell's Brewery - Eccentric Café &amp; General Store</td>\n",
       "      <td>Michigan</td>\n",
       "      <td>United States</td>\n",
       "      <td>bellsbeer.com</td>\n",
       "      <td>American Amber  Red Ale</td>\n",
       "      <td>5.80%</td>\n",
       "      <td>Year-round</td>\n",
       "      <td>The beer that helped build our brewery; Bell’s...</td>\n",
       "      <td>#12977</td>\n",
       "      <td>993</td>\n",
       "      <td>3192</td>\n",
       "      <td>168</td>\n",
       "    </tr>\n",
       "    <tr>\n",
       "      <th>Hopback Amber Ale</th>\n",
       "      <td>Tröegs Brewing Company</td>\n",
       "      <td>Pennsylvania</td>\n",
       "      <td>United States</td>\n",
       "      <td>troegs.com</td>\n",
       "      <td>American Amber  Red Ale</td>\n",
       "      <td>6.00%</td>\n",
       "      <td>Year-round</td>\n",
       "      <td>Standing 12 ft. tall at the center of the brew...</td>\n",
       "      <td>#5046</td>\n",
       "      <td>1176</td>\n",
       "      <td>3124</td>\n",
       "      <td>133</td>\n",
       "    </tr>\n",
       "  </tbody>\n",
       "</table>\n",
       "</div>"
      ],
      "text/plain": [
       "                                                            brewery  \\\n",
       "Fat Tire Amber Ale                              New Belgium Brewing   \n",
       "Nugget Nectar                                Tröegs Brewing Company   \n",
       "Hop Head Red Ale                            Green Flash Brewing Co.   \n",
       "Amber Ale           Bell's Brewery - Eccentric Café & General Store   \n",
       "Hopback Amber Ale                            Tröegs Brewing Company   \n",
       "\n",
       "                           state        country             website  \\\n",
       "Fat Tire Amber Ale      Colorado  United States      newbelgium.com   \n",
       "Nugget Nectar       Pennsylvania  United States          troegs.com   \n",
       "Hop Head Red Ale      California  United States  greenflashbrew.com   \n",
       "Amber Ale               Michigan  United States       bellsbeer.com   \n",
       "Hopback Amber Ale   Pennsylvania  United States          troegs.com   \n",
       "\n",
       "                                      style     abv availability  \\\n",
       "Fat Tire Amber Ale  American Amber  Red Ale   5.20%   Year-round   \n",
       "Nugget Nectar       American Amber  Red Ale   7.50%       Spring   \n",
       "Hop Head Red Ale    American Amber  Red Ale   8.10%   Year-round   \n",
       "Amber Ale           American Amber  Red Ale   5.80%   Year-round   \n",
       "Hopback Amber Ale   American Amber  Red Ale   6.00%   Year-round   \n",
       "\n",
       "                                                          description ranking  \\\n",
       "Fat Tire Amber Ale                             No notes at this time.  #40195   \n",
       "Nugget Nectar       Squeeze those hops for all they're worth! Nugg...    #451   \n",
       "Hop Head Red Ale    In 2011 the recipe was altered to bump the IBU...   #5041   \n",
       "Amber Ale           The beer that helped build our brewery; Bell’s...  #12977   \n",
       "Hopback Amber Ale   Standing 12 ft. tall at the center of the brew...   #5046   \n",
       "\n",
       "                   num_reviews num_ratings num_wants  \n",
       "Fat Tire Amber Ale        2080        8898       248  \n",
       "Nugget Nectar             2573        8657      1430  \n",
       "Hop Head Red Ale           965        3422       178  \n",
       "Amber Ale                  993        3192       168  \n",
       "Hopback Amber Ale         1176        3124       133  "
      ]
     },
     "execution_count": 50,
     "metadata": {},
     "output_type": "execute_result"
    }
   ],
   "source": [
    "print(df3.shape)\n",
    "df3.head()"
   ]
  },
  {
   "cell_type": "code",
   "execution_count": 51,
   "metadata": {},
   "outputs": [],
   "source": [
    "#to save dataframe for analysis\n",
    "\n",
    "#df3.to_csv(path_or_buf=\"large_beer_df_6.2.18\")"
   ]
  },
  {
   "cell_type": "markdown",
   "metadata": {},
   "source": [
    "---\n",
    "\n",
    "## Testing Chunk:\n",
    "\n",
    "Below we test out different User/Beer class functionalities. Feel free to test them out yourself!"
   ]
  },
  {
   "cell_type": "code",
   "execution_count": 77,
   "metadata": {},
   "outputs": [
    {
     "data": {
      "text/plain": [
       "{'Brewed by': ['Toppling Goliath Brewing Company',\n",
       "  'Iowa',\n",
       "  'United States',\n",
       "  'tgbrews.com'],\n",
       " 'Style': ['American Double  Imperial Stout'],\n",
       " 'Alcohol by volume (ABV)': [' 12.00%'],\n",
       " 'Availability': [' Rotating'],\n",
       " 'Notes  Commercial Description': ['This beer is the real McCoy. Barrel aged and crammed with coffee none other will stand in it’s way. Sought out for being delicious it is notoriously difficult to track down. If you can find one shoot to kill because it is definitely wanted... dead or alive.',\n",
       "  'Added by siradmiralnelson on 02-26-2012'],\n",
       " 'Ranking': ['#1'],\n",
       " 'Reviews': ['132'],\n",
       " 'Ratings': ['689'],\n",
       " 'Bros Score': ['0'],\n",
       " 'Wants': ['3701'],\n",
       " 'Gots': ['103'],\n",
       " 'Trade': ['5']}"
      ]
     },
     "execution_count": 77,
     "metadata": {},
     "output_type": "execute_result"
    }
   ],
   "source": [
    "test = Beer('/beer/profile/23222/78820/')\n",
    "test.info"
   ]
  },
  {
   "cell_type": "code",
   "execution_count": 78,
   "metadata": {},
   "outputs": [
    {
     "data": {
      "text/plain": [
       "'Kentucky Brunch Brand Stout'"
      ]
     },
     "execution_count": 78,
     "metadata": {},
     "output_type": "execute_result"
    }
   ],
   "source": [
    "test.get_name()"
   ]
  },
  {
   "cell_type": "code",
   "execution_count": 61,
   "metadata": {},
   "outputs": [
    {
     "name": "stdout",
     "output_type": "stream",
     "text": [
      "CPU times: user 2.57 s, sys: 54.2 ms, total: 2.62 s\n",
      "Wall time: 10.1 s\n"
     ]
    }
   ],
   "source": [
    "%%time\n",
    "iron_rat_stout = Beer('/beer/profile/23222/78820/')\n",
    "reviews = iron_rat_stout.get_reviews()"
   ]
  },
  {
   "cell_type": "code",
   "execution_count": 67,
   "metadata": {},
   "outputs": [
    {
     "data": {
      "text/plain": [
       "[['5',\n",
       "  '5',\n",
       "  'rDev ',\n",
       "  '+3.3%',\n",
       "  'look: 5 | smell: 5 | taste: 5 | feel: 5 |  overall: 5',\n",
       "  'Jmonah3',\n",
       "  'Yesterday at 09:19 PM',\n",
       "  '5',\n",
       "  '5',\n",
       "  'rDev ',\n",
       "  '+3.3%',\n",
       "  'look: 5 | smell: 5 | taste: 5 | feel: 5 |  overall: 5'],\n",
       " ['4.85',\n",
       "  '5',\n",
       "  'rDev ',\n",
       "  '+0.2%',\n",
       "  'look: 5 | smell: 5 | taste: 4.75 | feel: 4.5 |  overall: 5'],\n",
       " ['5',\n",
       "  '5',\n",
       "  'rDev ',\n",
       "  '+3.3%',\n",
       "  'look: 5 | smell: 5 | taste: 5 | feel: 5 |  overall: 5',\n",
       "  'A buddy of mine called me one night and said that I needed to come over and try this new beer he found. Man am I glad I did because it was and is the best stout I have ever had!',\n",
       "  '177 characters']]"
      ]
     },
     "execution_count": 67,
     "metadata": {},
     "output_type": "execute_result"
    }
   ],
   "source": [
    "reviews['review'][:3]"
   ]
  },
  {
   "cell_type": "code",
   "execution_count": 71,
   "metadata": {},
   "outputs": [
    {
     "data": {
      "text/plain": [
       "{'Last Activity': 'May 27 2018 at 7:32 PM',\n",
       " 'May 27 2018 at 7:32 P': 'Joined:',\n",
       " 'Joined': 'Jul 21 2009',\n",
       " 'Beer Karma': '445',\n",
       " 'Beers': '759',\n",
       " 'Places': '17',\n",
       " 'Posts': '29',\n",
       " 'Likes Received': '5'}"
      ]
     },
     "execution_count": 71,
     "metadata": {},
     "output_type": "execute_result"
    }
   ],
   "source": [
    "User('mattsmith413').info"
   ]
  },
  {
   "cell_type": "code",
   "execution_count": 84,
   "metadata": {},
   "outputs": [],
   "source": [
    "??Beer"
   ]
  },
  {
   "cell_type": "code",
   "execution_count": 80,
   "metadata": {},
   "outputs": [],
   "source": [
    "??BA.tools.ba_parser"
   ]
  },
  {
   "cell_type": "code",
   "execution_count": null,
   "metadata": {},
   "outputs": [],
   "source": []
  }
 ],
 "metadata": {
  "kernelspec": {
   "display_name": "Python 3",
   "language": "python",
   "name": "python3"
  },
  "language_info": {
   "codemirror_mode": {
    "name": "ipython",
    "version": 3
   },
   "file_extension": ".py",
   "mimetype": "text/x-python",
   "name": "python",
   "nbconvert_exporter": "python",
   "pygments_lexer": "ipython3",
   "version": "3.6.5"
  }
 },
 "nbformat": 4,
 "nbformat_minor": 2
}
